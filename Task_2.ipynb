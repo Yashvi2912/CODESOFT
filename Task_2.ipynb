{
 "cells": [
  {
   "cell_type": "code",
   "execution_count": 1,
   "id": "75940947-2ed7-4326-baa8-b8f6646753c8",
   "metadata": {},
   "outputs": [
    {
     "name": "stdout",
     "output_type": "stream",
     "text": [
      "Welcome to the Calculator!\n"
     ]
    },
    {
     "name": "stdin",
     "output_type": "stream",
     "text": [
      "Enter the first number:  2\n",
      "Enter the second number:  4\n"
     ]
    },
    {
     "name": "stdout",
     "output_type": "stream",
     "text": [
      "Choose an operation:\n",
      "1: Addition (+)\n",
      "2: Subtraction (-)\n",
      "3: Multiplication (*)\n",
      "4: Division (/)\n"
     ]
    },
    {
     "name": "stdin",
     "output_type": "stream",
     "text": [
      "Enter the number corresponding to your choice:  1\n"
     ]
    },
    {
     "name": "stdout",
     "output_type": "stream",
     "text": [
      "The result of 2.0 + 4.0 is: 6.0\n"
     ]
    }
   ],
   "source": [
    "def calculator():\n",
    "    print(\"Welcome to the Calculator!\")\n",
    "    \n",
    "    # Input numbers\n",
    "    num1 = float(input(\"Enter the first number: \"))\n",
    "    num2 = float(input(\"Enter the second number: \"))\n",
    "    \n",
    "    # Choose operation\n",
    "    print(\"Choose an operation:\")\n",
    "    print(\"1: Addition (+)\")\n",
    "    print(\"2: Subtraction (-)\")\n",
    "    print(\"3: Multiplication (*)\")\n",
    "    print(\"4: Division (/)\")\n",
    "    operation = input(\"Enter the number corresponding to your choice: \")\n",
    "    \n",
    "    # Perform calculation\n",
    "    if operation == \"1\":\n",
    "        result = num1 + num2\n",
    "        op_symbol = \"+\"\n",
    "    elif operation == \"2\":\n",
    "        result = num1 - num2\n",
    "        op_symbol = \"-\"\n",
    "    elif operation == \"3\":\n",
    "        result = num1 * num2\n",
    "        op_symbol = \"*\"\n",
    "    elif operation == \"4\":\n",
    "        if num2 != 0:  # Check for division by zero\n",
    "            result = num1 / num2\n",
    "            op_symbol = \"/\"\n",
    "        else:\n",
    "            return \"Error: Division by zero is not allowed.\"\n",
    "    else:\n",
    "        return \"Invalid operation selected.\"\n",
    "    \n",
    "    # Display result\n",
    "    return f\"The result of {num1} {op_symbol} {num2} is: {result}\"\n",
    "\n",
    "# Run the calculator\n",
    "print(calculator())\n",
    "\n"
   ]
  },
  {
   "cell_type": "code",
   "execution_count": null,
   "id": "5818f8bb-1766-4d66-8e70-d4d9e8cbc956",
   "metadata": {},
   "outputs": [],
   "source": []
  }
 ],
 "metadata": {
  "kernelspec": {
   "display_name": "Python 3 (ipykernel)",
   "language": "python",
   "name": "python3"
  },
  "language_info": {
   "codemirror_mode": {
    "name": "ipython",
    "version": 3
   },
   "file_extension": ".py",
   "mimetype": "text/x-python",
   "name": "python",
   "nbconvert_exporter": "python",
   "pygments_lexer": "ipython3",
   "version": "3.12.4"
  }
 },
 "nbformat": 4,
 "nbformat_minor": 5
}
