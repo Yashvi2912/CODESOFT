{
 "cells": [
  {
   "cell_type": "code",
   "execution_count": null,
   "id": "dd48e0e2-fb5f-43b2-93c2-7b3ed5c877f9",
   "metadata": {},
   "outputs": [
    {
     "name": "stdout",
     "output_type": "stream",
     "text": [
      "Welcome to Rock-Paper-Scissors!\n",
      "\n",
      "Choose your move:\n",
      "1. Rock\n",
      "2. Paper\n",
      "3. Scissors\n",
      "4. Exit\n"
     ]
    },
    {
     "name": "stdin",
     "output_type": "stream",
     "text": [
      "Enter the number of your choice:  1\n"
     ]
    },
    {
     "name": "stdout",
     "output_type": "stream",
     "text": [
      "You chose: Rock\n",
      "Computer chose: Paper\n",
      "Computer wins this round!\n",
      "Current Scores - You: 0, Computer: 1\n",
      "\n",
      "Choose your move:\n",
      "1. Rock\n",
      "2. Paper\n",
      "3. Scissors\n",
      "4. Exit\n"
     ]
    },
    {
     "name": "stdin",
     "output_type": "stream",
     "text": [
      "Enter the number of your choice:  1\n"
     ]
    },
    {
     "name": "stdout",
     "output_type": "stream",
     "text": [
      "You chose: Rock\n",
      "Computer chose: Scissors\n",
      "You win this round!\n",
      "Current Scores - You: 1, Computer: 1\n",
      "\n",
      "Choose your move:\n",
      "1. Rock\n",
      "2. Paper\n",
      "3. Scissors\n",
      "4. Exit\n"
     ]
    },
    {
     "name": "stdin",
     "output_type": "stream",
     "text": [
      "Enter the number of your choice:  3\n"
     ]
    },
    {
     "name": "stdout",
     "output_type": "stream",
     "text": [
      "You chose: Scissors\n",
      "Computer chose: Rock\n",
      "Computer wins this round!\n",
      "Current Scores - You: 1, Computer: 2\n",
      "\n",
      "Choose your move:\n",
      "1. Rock\n",
      "2. Paper\n",
      "3. Scissors\n",
      "4. Exit\n"
     ]
    },
    {
     "name": "stdin",
     "output_type": "stream",
     "text": [
      "Enter the number of your choice:  3\n"
     ]
    },
    {
     "name": "stdout",
     "output_type": "stream",
     "text": [
      "You chose: Scissors\n",
      "Computer chose: Scissors\n",
      "It's a tie!\n",
      "Current Scores - You: 1, Computer: 2\n",
      "\n",
      "Choose your move:\n",
      "1. Rock\n",
      "2. Paper\n",
      "3. Scissors\n",
      "4. Exit\n"
     ]
    },
    {
     "name": "stdin",
     "output_type": "stream",
     "text": [
      "Enter the number of your choice:  2\n"
     ]
    },
    {
     "name": "stdout",
     "output_type": "stream",
     "text": [
      "You chose: Paper\n",
      "Computer chose: Rock\n",
      "You win this round!\n",
      "Current Scores - You: 2, Computer: 2\n",
      "\n",
      "Choose your move:\n",
      "1. Rock\n",
      "2. Paper\n",
      "3. Scissors\n",
      "4. Exit\n"
     ]
    },
    {
     "name": "stdin",
     "output_type": "stream",
     "text": [
      "Enter the number of your choice:  2\n"
     ]
    },
    {
     "name": "stdout",
     "output_type": "stream",
     "text": [
      "You chose: Paper\n",
      "Computer chose: Scissors\n",
      "Computer wins this round!\n",
      "Current Scores - You: 2, Computer: 3\n",
      "\n",
      "Choose your move:\n",
      "1. Rock\n",
      "2. Paper\n",
      "3. Scissors\n",
      "4. Exit\n"
     ]
    }
   ],
   "source": [
    "import random\n",
    "\n",
    "def rock_paper_scissors():\n",
    "    print(\"Welcome to Rock-Paper-Scissors!\")\n",
    "    user_score = 0\n",
    "    computer_score = 0\n",
    "    \n",
    "    # Game loop\n",
    "    while True:\n",
    "        # Step 1: User Input\n",
    "        print(\"\\nChoose your move:\")\n",
    "        print(\"1. Rock\")\n",
    "        print(\"2. Paper\")\n",
    "        print(\"3. Scissors\")\n",
    "        print(\"4. Exit\")\n",
    "        \n",
    "        user_choice = input(\"Enter the number of your choice: \")\n",
    "        if user_choice == \"4\":\n",
    "            print(\"Thanks for playing!\")\n",
    "            print(f\"Final Scores - You: {user_score}, Computer: {computer_score}\")\n",
    "            break\n",
    "        \n",
    "        choices = {\"1\": \"Rock\", \"2\": \"Paper\", \"3\": \"Scissors\"}\n",
    "        if user_choice not in choices:\n",
    "            print(\"Invalid choice. Please try again.\")\n",
    "            continue\n",
    "        \n",
    "        user_move = choices[user_choice]\n",
    "        \n",
    "        # Step 2: Computer Selection\n",
    "        computer_move = random.choice([\"Rock\", \"Paper\", \"Scissors\"])\n",
    "        \n",
    "        # Step 3: Display Choices\n",
    "        print(f\"You chose: {user_move}\")\n",
    "        print(f\"Computer chose: {computer_move}\")\n",
    "        \n",
    "        # Step 4: Game Logic\n",
    "        if user_move == computer_move:\n",
    "            print(\"It's a tie!\")\n",
    "        elif (user_move == \"Rock\" and computer_move == \"Scissors\") or \\\n",
    "             (user_move == \"Scissors\" and computer_move == \"Paper\") or \\\n",
    "             (user_move == \"Paper\" and computer_move == \"Rock\"):\n",
    "            print(\"You win this round!\")\n",
    "            user_score += 1\n",
    "        else:\n",
    "            print(\"Computer wins this round!\")\n",
    "            computer_score += 1\n",
    "        \n",
    "        # Step 5: Display Scores\n",
    "        print(f\"Current Scores - You: {user_score}, Computer: {computer_score}\")\n",
    "\n",
    "# Run the game\n",
    "rock_paper_scissors()\n"
   ]
  },
  {
   "cell_type": "code",
   "execution_count": null,
   "id": "0a1f6e32-5041-42b8-abd7-e5e926a39431",
   "metadata": {},
   "outputs": [],
   "source": []
  }
 ],
 "metadata": {
  "kernelspec": {
   "display_name": "Python 3 (ipykernel)",
   "language": "python",
   "name": "python3"
  },
  "language_info": {
   "codemirror_mode": {
    "name": "ipython",
    "version": 3
   },
   "file_extension": ".py",
   "mimetype": "text/x-python",
   "name": "python",
   "nbconvert_exporter": "python",
   "pygments_lexer": "ipython3",
   "version": "3.12.4"
  }
 },
 "nbformat": 4,
 "nbformat_minor": 5
}
