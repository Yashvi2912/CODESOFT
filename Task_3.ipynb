{
 "cells": [
  {
   "cell_type": "code",
   "execution_count": 1,
   "id": "6991f467-5e04-4218-8060-40816d8abe08",
   "metadata": {},
   "outputs": [
    {
     "name": "stdout",
     "output_type": "stream",
     "text": [
      "Welcome to the Password Generator!\n"
     ]
    },
    {
     "name": "stdin",
     "output_type": "stream",
     "text": [
      "Enter the desired password length:  8\n"
     ]
    },
    {
     "name": "stdout",
     "output_type": "stream",
     "text": [
      "Your strong, random password is: 4<N8prb?\n"
     ]
    }
   ],
   "source": [
    "import random\n",
    "import string\n",
    "\n",
    "def password_generator():\n",
    "    print(\"Welcome to the Password Generator!\")\n",
    "    \n",
    "    # Step 1: Prompt user for the desired password length\n",
    "    try:\n",
    "        length = int(input(\"Enter the desired password length: \"))\n",
    "        if length <= 0:\n",
    "            return \"Password length must be a positive number!\"\n",
    "    except ValueError:\n",
    "        return \"Please enter a valid number.\"\n",
    "    \n",
    "    # Step 2: Define the character pool\n",
    "    char_pool = string.ascii_letters + string.digits + string.punctuation\n",
    "    \n",
    "    # Step 3: Generate password\n",
    "    password = ''.join(random.choices(char_pool, k=length))\n",
    "    \n",
    "    # Step 4: Display the password\n",
    "    print(f\"Your strong, random password is: {password}\")\n",
    "\n",
    "# Run the password generator\n",
    "password_generator()\n"
   ]
  },
  {
   "cell_type": "code",
   "execution_count": null,
   "id": "dc515a02-ad1e-4d1b-b0f0-e463d648864e",
   "metadata": {},
   "outputs": [],
   "source": []
  }
 ],
 "metadata": {
  "kernelspec": {
   "display_name": "Python 3 (ipykernel)",
   "language": "python",
   "name": "python3"
  },
  "language_info": {
   "codemirror_mode": {
    "name": "ipython",
    "version": 3
   },
   "file_extension": ".py",
   "mimetype": "text/x-python",
   "name": "python",
   "nbconvert_exporter": "python",
   "pygments_lexer": "ipython3",
   "version": "3.12.4"
  }
 },
 "nbformat": 4,
 "nbformat_minor": 5
}
