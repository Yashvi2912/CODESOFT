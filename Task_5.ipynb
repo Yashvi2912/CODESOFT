{
 "cells": [
  {
   "cell_type": "code",
   "execution_count": null,
   "id": "6b36a670-b046-4edb-a27b-d97389e0e3d5",
   "metadata": {},
   "outputs": [
    {
     "name": "stdout",
     "output_type": "stream",
     "text": [
      "\n",
      "Contact Manager\n",
      "1. Add Contact\n",
      "2. View Contacts\n",
      "3. Search Contact\n",
      "4. Update Contact\n",
      "5. Delete Contact\n",
      "6. Exit\n"
     ]
    },
    {
     "name": "stdin",
     "output_type": "stream",
     "text": [
      "Enter your choice:  1\n",
      "Enter name:  Urva didi\n",
      "Enter phone number:  9843546241\n",
      "Enter email:  urva09@gmail.com\n",
      "Enter address:  Aanand colony Bhuj kachchh\n"
     ]
    },
    {
     "name": "stdout",
     "output_type": "stream",
     "text": [
      "Contact added successfully!\n",
      "\n",
      "Contact Manager\n",
      "1. Add Contact\n",
      "2. View Contacts\n",
      "3. Search Contact\n",
      "4. Update Contact\n",
      "5. Delete Contact\n",
      "6. Exit\n"
     ]
    },
    {
     "name": "stdin",
     "output_type": "stream",
     "text": [
      "Enter your choice:  2\n"
     ]
    },
    {
     "name": "stdout",
     "output_type": "stream",
     "text": [
      "Contact List:\n",
      "1. Urva didi - 9843546241\n",
      "\n",
      "Contact Manager\n",
      "1. Add Contact\n",
      "2. View Contacts\n",
      "3. Search Contact\n",
      "4. Update Contact\n",
      "5. Delete Contact\n",
      "6. Exit\n"
     ]
    }
   ],
   "source": [
    "# Contact Manager Application\n",
    "\n",
    "# Initialize an empty contact list\n",
    "contacts = []\n",
    "\n",
    "def add_contact():\n",
    "    \"\"\"Add a new contact.\"\"\"\n",
    "    name = input(\"Enter name: \")\n",
    "    phone = input(\"Enter phone number: \")\n",
    "    email = input(\"Enter email: \")\n",
    "    address = input(\"Enter address: \")\n",
    "    contact = {\"name\": name, \"phone\": phone, \"email\": email, \"address\": address}\n",
    "    contacts.append(contact)\n",
    "    print(\"Contact added successfully!\")\n",
    "\n",
    "def view_contacts():\n",
    "    \"\"\"View all contacts.\"\"\"\n",
    "    if not contacts:\n",
    "        print(\"No contacts available.\")\n",
    "    else:\n",
    "        print(\"Contact List:\")\n",
    "        for idx, contact in enumerate(contacts, start=1):\n",
    "            print(f\"{idx}. {contact['name']} - {contact['phone']}\")\n",
    "\n",
    "def search_contact():\n",
    "    \"\"\"Search for a contact by name or phone.\"\"\"\n",
    "    query = input(\"Enter name or phone number to search: \")\n",
    "    results = [contact for contact in contacts if query in (contact['name'], contact['phone'])]\n",
    "    if results:\n",
    "        for contact in results:\n",
    "            print(contact)\n",
    "    else:\n",
    "        print(\"No matching contact found.\")\n",
    "\n",
    "def update_contact():\n",
    "    \"\"\"Update an existing contact.\"\"\"\n",
    "    name = input(\"Enter the name of the contact to update: \")\n",
    "    for contact in contacts:\n",
    "        if contact[\"name\"] == name:\n",
    "            print(\"What would you like to update?\")\n",
    "            print(\"1. Name\\n2. Phone\\n3. Email\\n4. Address\")\n",
    "            choice = input(\"Enter your choice: \")\n",
    "            if choice == \"1\":\n",
    "                contact[\"name\"] = input(\"Enter new name: \")\n",
    "            elif choice == \"2\":\n",
    "                contact[\"phone\"] = input(\"Enter new phone: \")\n",
    "            elif choice == \"3\":\n",
    "                contact[\"email\"] = input(\"Enter new email: \")\n",
    "            elif choice == \"4\":\n",
    "                contact[\"address\"] = input(\"Enter new address: \")\n",
    "            print(\"Contact updated successfully!\")\n",
    "            return\n",
    "    print(\"Contact not found.\")\n",
    "\n",
    "def delete_contact():\n",
    "    \"\"\"Delete a contact.\"\"\"\n",
    "    name = input(\"Enter the name of the contact to delete: \")\n",
    "    for contact in contacts:\n",
    "        if contact[\"name\"] == name:\n",
    "            contacts.remove(contact)\n",
    "            print(\"Contact deleted successfully!\")\n",
    "            return\n",
    "    print(\"Contact not found.\")\n",
    "\n",
    "def main():\n",
    "    \"\"\"Main menu for the Contact Manager.\"\"\"\n",
    "    while True:\n",
    "        print(\"\\nContact Manager\")\n",
    "        print(\"1. Add Contact\")\n",
    "        print(\"2. View Contacts\")\n",
    "        print(\"3. Search Contact\")\n",
    "        print(\"4. Update Contact\")\n",
    "        print(\"5. Delete Contact\")\n",
    "        print(\"6. Exit\")\n",
    "        choice = input(\"Enter your choice: \")\n",
    "        \n",
    "        if choice == \"1\":\n",
    "            add_contact()\n",
    "        elif choice == \"2\":\n",
    "            view_contacts()\n",
    "        elif choice == \"3\":\n",
    "            search_contact()\n",
    "        elif choice == \"4\":\n",
    "            update_contact()\n",
    "        elif choice == \"5\":\n",
    "            delete_contact()\n",
    "        elif choice == \"6\":\n",
    "            print(\"Exiting Contact Manager. Goodbye!\")\n",
    "            break\n",
    "        else:\n",
    "            print(\"Invalid choice. Please try again.\")\n",
    "\n",
    "# Run the Contact Manager\n",
    "main()\n"
   ]
  },
  {
   "cell_type": "code",
   "execution_count": null,
   "id": "39d9a7f7-508f-47c2-816f-33c77396b81d",
   "metadata": {},
   "outputs": [],
   "source": []
  }
 ],
 "metadata": {
  "kernelspec": {
   "display_name": "Python 3 (ipykernel)",
   "language": "python",
   "name": "python3"
  },
  "language_info": {
   "codemirror_mode": {
    "name": "ipython",
    "version": 3
   },
   "file_extension": ".py",
   "mimetype": "text/x-python",
   "name": "python",
   "nbconvert_exporter": "python",
   "pygments_lexer": "ipython3",
   "version": "3.12.4"
  }
 },
 "nbformat": 4,
 "nbformat_minor": 5
}
